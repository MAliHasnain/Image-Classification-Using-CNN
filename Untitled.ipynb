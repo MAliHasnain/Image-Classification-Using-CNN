{
 "cells": [
  {
   "cell_type": "code",
   "execution_count": 1,
   "id": "64678ae1",
   "metadata": {},
   "outputs": [],
   "source": [
    "import numpy as np\n",
    "import tensorflow as tf\n",
    "from tensorflow.keras import models , datasets , layers\n",
    "import matplotlib.pyplot as plt \n",
    "from sklearn.metrics import confusion_matrix ,classification_report "
   ]
  },
  {
   "cell_type": "code",
   "execution_count": 2,
   "id": "5e69b0fe",
   "metadata": {},
   "outputs": [
    {
     "data": {
      "text/plain": [
       "(50000, 32, 32, 3)"
      ]
     },
     "execution_count": 2,
     "metadata": {},
     "output_type": "execute_result"
    }
   ],
   "source": [
    "(X_train,y_train),(X_test,y_test) = datasets.cifar10.load_data()\n",
    "X_train.shape"
   ]
  },
  {
   "cell_type": "code",
   "execution_count": 3,
   "id": "12998296",
   "metadata": {},
   "outputs": [
    {
     "data": {
      "text/plain": [
       "(10000, 32, 32, 3)"
      ]
     },
     "execution_count": 3,
     "metadata": {},
     "output_type": "execute_result"
    }
   ],
   "source": [
    "X_test.shape"
   ]
  },
  {
   "cell_type": "code",
   "execution_count": 4,
   "id": "a99adf51",
   "metadata": {
    "scrolled": true
   },
   "outputs": [
    {
     "data": {
      "text/plain": [
       "<matplotlib.image.AxesImage at 0x298693c7f70>"
      ]
     },
     "execution_count": 4,
     "metadata": {},
     "output_type": "execute_result"
    },
    {
     "data": {
      "image/png": "[encoded data removed]",
      "text/plain": [
       "<Figure size 720x144 with 1 Axes>"
      ]
     },
     "metadata": {
      "needs_background": "light"
     },
     "output_type": "display_data"
    }
   ],
   "source": [
    "plt.figure(figsize=(10,2))\n",
    "plt.imshow(X_train[0])"
   ]
  },
  {
   "cell_type": "code",
   "execution_count": 5,
   "id": "3c75b1f0",
   "metadata": {},
   "outputs": [],
   "source": [
    "X_train = X_train/255\n",
    "X_test = X_test/255"
   ]
  },
  {
   "cell_type": "code",
   "execution_count": 6,
   "id": "633300b0",
   "metadata": {
    "scrolled": true
   },
   "outputs": [
    {
     "data": {
      "text/plain": [
       "array([[[0.23137255, 0.24313725, 0.24705882],\n",
       "        [0.16862745, 0.18039216, 0.17647059],\n",
       "        [0.19607843, 0.18823529, 0.16862745],\n",
       "        ...,\n",
       "        [0.61960784, 0.51764706, 0.42352941],\n",
       "        [0.59607843, 0.49019608, 0.4       ],\n",
       "        [0.58039216, 0.48627451, 0.40392157]],\n",
       "\n",
       "       [[0.0627451 , 0.07843137, 0.07843137],\n",
       "        [0.        , 0.        , 0.        ],\n",
       "        [0.07058824, 0.03137255, 0.        ],\n",
       "        ...,\n",
       "        [0.48235294, 0.34509804, 0.21568627],\n",
       "        [0.46666667, 0.3254902 , 0.19607843],\n",
       "        [0.47843137, 0.34117647, 0.22352941]],\n",
       "\n",
       "       [[0.09803922, 0.09411765, 0.08235294],\n",
       "        [0.0627451 , 0.02745098, 0.        ],\n",
       "        [0.19215686, 0.10588235, 0.03137255],\n",
       "        ...,\n",
       "        [0.4627451 , 0.32941176, 0.19607843],\n",
       "        [0.47058824, 0.32941176, 0.19607843],\n",
       "        [0.42745098, 0.28627451, 0.16470588]],\n",
       "\n",
       "       ...,\n",
       "\n",
       "       [[0.81568627, 0.66666667, 0.37647059],\n",
       "        [0.78823529, 0.6       , 0.13333333],\n",
       "        [0.77647059, 0.63137255, 0.10196078],\n",
       "        ...,\n",
       "        [0.62745098, 0.52156863, 0.2745098 ],\n",
       "        [0.21960784, 0.12156863, 0.02745098],\n",
       "        [0.20784314, 0.13333333, 0.07843137]],\n",
       "\n",
       "       [[0.70588235, 0.54509804, 0.37647059],\n",
       "        [0.67843137, 0.48235294, 0.16470588],\n",
       "        [0.72941176, 0.56470588, 0.11764706],\n",
       "        ...,\n",
       "        [0.72156863, 0.58039216, 0.36862745],\n",
       "        [0.38039216, 0.24313725, 0.13333333],\n",
       "        [0.3254902 , 0.20784314, 0.13333333]],\n",
       "\n",
       "       [[0.69411765, 0.56470588, 0.45490196],\n",
       "        [0.65882353, 0.50588235, 0.36862745],\n",
       "        [0.70196078, 0.55686275, 0.34117647],\n",
       "        ...,\n",
       "        [0.84705882, 0.72156863, 0.54901961],\n",
       "        [0.59215686, 0.4627451 , 0.32941176],\n",
       "        [0.48235294, 0.36078431, 0.28235294]]])"
      ]
     },
     "execution_count": 6,
     "metadata": {},
     "output_type": "execute_result"
    }
   ],
   "source": [
    "X_train[0]"
   ]
  },
  {
   "cell_type": "code",
   "execution_count": 7,
   "id": "d541c1ce",
   "metadata": {},
   "outputs": [
    {
     "name": "stdout",
     "output_type": "stream",
     "text": [
      "Epoch 1/5\n",
      "1563/1563 [==============================] - 99s 63ms/step - loss: 1.8105 - accuracy: 0.3549\n",
      "Epoch 2/5\n",
      "1563/1563 [==============================] - 88s 56ms/step - loss: 1.6270 - accuracy: 0.4260\n",
      "Epoch 3/5\n",
      "1563/1563 [==============================] - 87s 55ms/step - loss: 1.5402 - accuracy: 0.4567\n",
      "Epoch 4/5\n",
      "1563/1563 [==============================] - 82s 53ms/step - loss: 1.4836 - accuracy: 0.4759\n",
      "Epoch 5/5\n",
      "1563/1563 [==============================] - 105s 67ms/step - loss: 1.4331 - accuracy: 0.4972\n"
     ]
    },
    {
     "data": {
      "text/plain": [
       "<keras.callbacks.History at 0x298612255e0>"
      ]
     },
     "execution_count": 7,
     "metadata": {},
     "output_type": "execute_result"
    }
   ],
   "source": [
    "ann = models.Sequential([\n",
    "                         layers.Flatten(input_shape = (32,32,3)),\n",
    "                         layers.Dense(3000,activation = 'relu'),\n",
    "                         layers.Dense(1000,activation = 'relu'),\n",
    "                         layers.Dense(10,activation = 'sigmoid')\n",
    "])\n",
    "ann.compile(optimizer='SGD',\n",
    "              loss = 'sparse_categorical_crossentropy',\n",
    "              metrics = ['accuracy'])\n",
    "\n",
    "ann.fit(X_train,y_train,epochs = 5)"
   ]
  },
  {
   "cell_type": "code",
   "execution_count": 8,
   "id": "05c2f7d4",
   "metadata": {},
   "outputs": [
    {
     "name": "stdout",
     "output_type": "stream",
     "text": [
      "313/313 [==============================] - 6s 19ms/step\n",
      "Classification Report: \n",
      "               precision    recall  f1-score   support\n",
      "\n",
      "           0       0.75      0.31      0.44      1000\n",
      "           1       0.68      0.41      0.51      1000\n",
      "           2       0.50      0.10      0.16      1000\n",
      "           3       0.40      0.21      0.27      1000\n",
      "           4       0.49      0.28      0.35      1000\n",
      "           5       0.38      0.36      0.37      1000\n",
      "           6       0.36      0.78      0.49      1000\n",
      "           7       0.39      0.68      0.49      1000\n",
      "           8       0.69      0.43      0.53      1000\n",
      "           9       0.36      0.77      0.49      1000\n",
      "\n",
      "    accuracy                           0.43     10000\n",
      "   macro avg       0.50      0.43      0.41     10000\n",
      "weighted avg       0.50      0.43      0.41     10000\n",
      "\n"
     ]
    }
   ],
   "source": [
    "y_pred = ann.predict(X_test)\n",
    "y_pred_classes = [np.argmax(elements) for elements in y_pred]\n",
    "print('Classification Report: \\n',classification_report(y_test,y_pred_classes))"
   ]
  },
  {
   "cell_type": "code",
   "execution_count": 12,
   "id": "b37c2a7b",
   "metadata": {},
   "outputs": [],
   "source": [
    "cnn = models.Sequential([\n",
    "    \n",
    "                         #cnn\n",
    "                         layers.Conv2D(filters=32,kernel_size=(3,3),activation='relu',input_shape = (32,32,3)),\n",
    "                         layers.MaxPooling2D((2,2)),\n",
    "                         layers.Conv2D(filters=64,kernel_size=(3,3),activation='relu'),\n",
    "                         layers.MaxPooling2D((2,2)),\n",
    "    \n",
    "                         #dense\n",
    "                         layers.Flatten(),\n",
    "                         layers.Dense(64,activation = 'relu'),\n",
    "                         layers.Dense(10,activation = 'softmax')\n",
    "])"
   ]
  },
  {
   "cell_type": "code",
   "execution_count": 13,
   "id": "c4b6bf89",
   "metadata": {},
   "outputs": [],
   "source": [
    "cnn.compile(optimizer='SGD',\n",
    "              loss = 'sparse_categorical_crossentropy',\n",
    "              metrics = ['accuracy'])"
   ]
  },
  {
   "cell_type": "code",
   "execution_count": 14,
   "id": "5d77cf0e",
   "metadata": {},
   "outputs": [
    {
     "name": "stdout",
     "output_type": "stream",
     "text": [
      "Epoch 1/10\n",
      "1563/1563 [==============================] - 56s 35ms/step - loss: 2.0333 - accuracy: 0.2634\n",
      "Epoch 2/10\n",
      "1563/1563 [==============================] - 45s 29ms/step - loss: 1.6108 - accuracy: 0.4234\n",
      "Epoch 3/10\n",
      "1563/1563 [==============================] - 52s 33ms/step - loss: 1.4191 - accuracy: 0.4979\n",
      "Epoch 4/10\n",
      "1563/1563 [==============================] - 47s 30ms/step - loss: 1.3112 - accuracy: 0.5373\n",
      "Epoch 5/10\n",
      "1563/1563 [==============================] - 47s 30ms/step - loss: 1.2344 - accuracy: 0.5670\n",
      "Epoch 6/10\n",
      "1563/1563 [==============================] - 46s 30ms/step - loss: 1.1685 - accuracy: 0.5916\n",
      "Epoch 7/10\n",
      "1563/1563 [==============================] - 48s 31ms/step - loss: 1.1108 - accuracy: 0.6110\n",
      "Epoch 8/10\n",
      "1563/1563 [==============================] - 50s 32ms/step - loss: 1.0594 - accuracy: 0.6325\n",
      "Epoch 9/10\n",
      "1563/1563 [==============================] - 47s 30ms/step - loss: 1.0138 - accuracy: 0.6477\n",
      "Epoch 10/10\n",
      "1563/1563 [==============================] - 43s 27ms/step - loss: 0.9741 - accuracy: 0.6611\n"
     ]
    },
    {
     "data": {
      "text/plain": [
       "<keras.callbacks.History at 0x29862196c10>"
      ]
     },
     "execution_count": 14,
     "metadata": {},
     "output_type": "execute_result"
    }
   ],
   "source": [
    "cnn.fit(X_train,y_train,epochs=10)"
   ]
  },
  {
   "cell_type": "code",
   "execution_count": 15,
   "id": "a5b9853b",
   "metadata": {},
   "outputs": [
    {
     "name": "stdout",
     "output_type": "stream",
     "text": [
      "313/313 [==============================] - 3s 9ms/step - loss: 1.0466 - accuracy: 0.6374\n"
     ]
    },
    {
     "data": {
      "text/plain": [
       "[1.04657781124115, 0.6373999714851379]"
      ]
     },
     "execution_count": 15,
     "metadata": {},
     "output_type": "execute_result"
    }
   ],
   "source": [
    "cnn.evaluate(X_test,y_test)"
   ]
  },
  {
   "cell_type": "code",
   "execution_count": 16,
   "id": "0562b143",
   "metadata": {},
   "outputs": [
    {
     "name": "stdout",
     "output_type": "stream",
     "text": [
      "313/313 [==============================] - 3s 10ms/step\n"
     ]
    },
    {
     "data": {
      "text/plain": [
       "array([[5.36525398e-02, 6.70688401e-04, 1.34834692e-01, 5.36533594e-01,\n",
       "        6.23443676e-03, 1.99296415e-01, 1.04836449e-02, 2.92687467e-03,\n",
       "        5.19061871e-02, 3.46093113e-03],\n",
       "       [1.07030325e-01, 1.05059363e-01, 1.13870068e-04, 1.28750262e-05,\n",
       "        6.31645744e-05, 1.38134203e-06, 2.50686244e-05, 6.16104307e-06,\n",
       "        7.68997014e-01, 1.86907444e-02],\n",
       "       [2.44539663e-01, 1.27119288e-01, 3.24178813e-03, 2.63121538e-03,\n",
       "        3.49134160e-03, 5.83990884e-04, 9.26090230e-04, 1.96998660e-03,\n",
       "        5.63791156e-01, 5.17054424e-02],\n",
       "       [8.50837171e-01, 1.14886295e-02, 1.84576288e-02, 2.65418785e-04,\n",
       "        1.10538816e-02, 4.97996152e-05, 2.58263259e-04, 1.64778554e-04,\n",
       "        1.06972001e-01, 4.52461769e-04],\n",
       "       [1.96508059e-04, 2.66351330e-04, 4.14604098e-02, 1.45187721e-01,\n",
       "        4.69669133e-01, 4.48249243e-02, 2.96730340e-01, 3.87118198e-04,\n",
       "        1.11201103e-03, 1.65384627e-04]], dtype=float32)"
      ]
     },
     "execution_count": 16,
     "metadata": {},
     "output_type": "execute_result"
    }
   ],
   "source": [
    "y_pred = cnn.predict(X_test)\n",
    "y_pred[:5]"
   ]
  },
  {
   "cell_type": "code",
   "execution_count": 17,
   "id": "f042667d",
   "metadata": {},
   "outputs": [
    {
     "data": {
      "text/plain": [
       "[3, 8, 8, 0, 4]"
      ]
     },
     "execution_count": 17,
     "metadata": {},
     "output_type": "execute_result"
    }
   ],
   "source": [
    "y_pred_classes = [np.argmax(elements) for elements in y_pred]\n",
    "y_pred_classes[:5]"
   ]
  },
  {
   "cell_type": "code",
   "execution_count": 22,
   "id": "4606b31d",
   "metadata": {},
   "outputs": [
    {
     "data": {
      "text/plain": [
       "array([3, 8, 8, 0, 6], dtype=uint8)"
      ]
     },
     "execution_count": 22,
     "metadata": {},
     "output_type": "execute_result"
    }
   ],
   "source": [
    "y_test[:5].flatten()"
   ]
  },
  {
   "cell_type": "code",
   "execution_count": 19,
   "id": "48641fd8",
   "metadata": {},
   "outputs": [
    {
     "name": "stdout",
     "output_type": "stream",
     "text": [
      "Classification Report: \n",
      "               precision    recall  f1-score   support\n",
      "\n",
      "           0       0.58      0.79      0.67      1000\n",
      "           1       0.80      0.71      0.76      1000\n",
      "           2       0.52      0.52      0.52      1000\n",
      "           3       0.48      0.47      0.47      1000\n",
      "           4       0.63      0.52      0.57      1000\n",
      "           5       0.50      0.60      0.55      1000\n",
      "           6       0.84      0.59      0.70      1000\n",
      "           7       0.65      0.73      0.69      1000\n",
      "           8       0.72      0.76      0.74      1000\n",
      "           9       0.77      0.68      0.72      1000\n",
      "\n",
      "    accuracy                           0.64     10000\n",
      "   macro avg       0.65      0.64      0.64     10000\n",
      "weighted avg       0.65      0.64      0.64     10000\n",
      "\n"
     ]
    }
   ],
   "source": [
    "print('Classification Report: \\n',classification_report(y_test,y_pred_classes))"
   ]
  },
  {
   "cell_type": "code",
   "execution_count": null,
   "id": "d759abcb",
   "metadata": {},
   "outputs": [],
   "source": []
  }
 ],
 "metadata": {
  "kernelspec": {
   "display_name": "Python 3 (ipykernel)",
   "language": "python",
   "name": "python3"
  },
  "language_info": {
   "codemirror_mode": {
    "name": "ipython",
    "version": 3
   },
   "file_extension": ".py",
   "mimetype": "text/x-python",
   "name": "python",
   "nbconvert_exporter": "python",
   "pygments_lexer": "ipython3",
   "version": "3.9.12"
  }
 },
 "nbformat": 4,
 "nbformat_minor": 5
}
